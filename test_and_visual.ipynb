{
 "cells": [
  {
   "cell_type": "code",
   "execution_count": 1,
   "metadata": {},
   "outputs": [],
   "source": [
    "from test.test_maps import *\n",
    "\n",
    "#draw_maps()"
   ]
  },
  {
   "cell_type": "code",
   "execution_count": 2,
   "metadata": {},
   "outputs": [],
   "source": [
    "from test.test_sensor import *"
   ]
  },
  {
   "cell_type": "code",
   "execution_count": 3,
   "metadata": {},
   "outputs": [
    {
     "data": {
      "text/plain": "<Figure size 900x600 with 1 Axes>",
      "image/png": "[encoded data removed]"
     },
     "metadata": {
      "needs_background": "light"
     },
     "output_type": "display_data"
    }
   ],
   "source": [
    "draw(sensor_maps[4])"
   ]
  },
  {
   "cell_type": "code",
   "execution_count": 4,
   "metadata": {},
   "outputs": [],
   "source": [
    "from src.A_star_Replanning.a_star_replanning import *"
   ]
  },
  {
   "cell_type": "code",
   "execution_count": 5,
   "metadata": {},
   "outputs": [],
   "source": [
    "p = a_star_replanning(sensor_maps[0], (0,0), (23, 63))"
   ]
  },
  {
   "cell_type": "code",
   "execution_count": 6,
   "metadata": {},
   "outputs": [
    {
     "data": {
      "text/plain": "([(0, 0),\n  (1, 0),\n  (2, 0),\n  (3, 0),\n  (4, 0),\n  (5, 0),\n  (5, 1),\n  (6, 1),\n  (7, 1),\n  (7, 2),\n  (8, 2),\n  (7, 2),\n  (7, 3),\n  (6, 3),\n  (6, 4),\n  (6, 5),\n  (7, 5),\n  (8, 5),\n  (9, 5),\n  (10, 5),\n  (11, 5),\n  (12, 5),\n  (12, 6),\n  (13, 6),\n  (14, 6),\n  (15, 6),\n  (15, 7),\n  (16, 7),\n  (16, 8),\n  (16, 9),\n  (17, 9),\n  (17, 10),\n  (18, 10),\n  (19, 10),\n  (20, 10),\n  (21, 10),\n  (22, 10),\n  (23, 10),\n  (23, 11),\n  (24, 11),\n  (24, 12),\n  (24, 13),\n  (24, 14),\n  (24, 15),\n  (24, 16),\n  (24, 17),\n  (24, 18),\n  (24, 19),\n  (24, 20),\n  (24, 21),\n  (24, 22),\n  (24, 23),\n  (23, 23),\n  (23, 24),\n  (23, 25),\n  (23, 26),\n  (24, 26),\n  (24, 27),\n  (24, 28),\n  (24, 29),\n  (24, 30),\n  (24, 31),\n  (24, 32),\n  (24, 33),\n  (24, 32),\n  (23, 32),\n  (22, 32),\n  (22, 33),\n  (22, 34),\n  (23, 34),\n  (23, 35),\n  (23, 36),\n  (23, 37),\n  (23, 38),\n  (23, 39),\n  (23, 40),\n  (23, 41),\n  (23, 42),\n  (23, 43),\n  (22, 43),\n  (21, 43),\n  (20, 43),\n  (19, 43),\n  (19, 44),\n  (19, 45),\n  (19, 46),\n  (20, 46),\n  (20, 47),\n  (21, 47),\n  (22, 47),\n  (23, 47),\n  (23, 48),\n  (23, 49),\n  (23, 50),\n  (24, 50),\n  (24, 51),\n  (24, 52),\n  (24, 53),\n  (24, 54),\n  (24, 55),\n  (24, 56),\n  (24, 57),\n  (24, 58),\n  (24, 59),\n  (24, 60),\n  (23, 60),\n  (23, 61),\n  (22, 61),\n  (21, 61),\n  (21, 62),\n  (21, 63),\n  (22, 63),\n  (23, 63)],\n <src.A_star_Replanning.open_a_star_replanning.OpenAStarReplanning at 0x123867c40>,\n <src.A_star_Replanning.closed_a_star_replanning.ClosedAStarReplanning at 0x123867af0>)"
     },
     "execution_count": 6,
     "metadata": {},
     "output_type": "execute_result"
    }
   ],
   "source": [
    "p"
   ]
  },
  {
   "cell_type": "code",
   "execution_count": 6,
   "metadata": {},
   "outputs": [],
   "source": []
  }
 ],
 "metadata": {
  "kernelspec": {
   "display_name": "Python 3",
   "language": "python",
   "name": "python3"
  },
  "language_info": {
   "codemirror_mode": {
    "name": "ipython",
    "version": 3
   },
   "file_extension": ".py",
   "mimetype": "text/x-python",
   "name": "python",
   "nbconvert_exporter": "python",
   "pygments_lexer": "ipython3",
   "version": "3.9.4"
  }
 },
 "nbformat": 4,
 "nbformat_minor": 4
}