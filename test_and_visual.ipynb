{
 "cells": [
  {
   "cell_type": "code",
   "execution_count": 1,
   "metadata": {},
   "outputs": [],
   "source": [
    "from test.test_maps import *\n",
    "\n",
    "#draw_maps()"
   ]
  },
  {
   "cell_type": "code",
   "execution_count": 2,
   "metadata": {},
   "outputs": [],
   "source": [
    "from test.test_sensor import *"
   ]
  },
  {
   "cell_type": "code",
   "execution_count": 3,
   "outputs": [],
   "source": [
    "map_n = 2"
   ],
   "metadata": {
    "collapsed": false,
    "pycharm": {
     "name": "#%%\n"
    }
   }
  },
  {
   "cell_type": "code",
   "execution_count": 4,
   "metadata": {},
   "outputs": [
    {
     "data": {
      "text/plain": "<Figure size 900x600 with 1 Axes>",
      "image/png": "[encoded data removed]"
     },
     "metadata": {
      "needs_background": "light"
     },
     "output_type": "display_data"
    }
   ],
   "source": [
    "draw(sensor_maps[map_n])"
   ]
  },
  {
   "cell_type": "code",
   "execution_count": 5,
   "metadata": {},
   "outputs": [],
   "source": [
    "from src.A_star_Replanning.a_star_replanning import *"
   ]
  },
  {
   "cell_type": "code",
   "execution_count": 6,
   "metadata": {},
   "outputs": [],
   "source": [
    "f, p, open, closed = a_star_replanning(sensor_maps[map_n], (0,0), (23, 63))"
   ]
  },
  {
   "cell_type": "code",
   "execution_count": 7,
   "metadata": {
    "pycharm": {
     "name": "#%%\n"
    }
   },
   "outputs": [
    {
     "data": {
      "text/plain": "True"
     },
     "execution_count": 7,
     "metadata": {},
     "output_type": "execute_result"
    }
   ],
   "source": [
    "f"
   ]
  },
  {
   "cell_type": "code",
   "execution_count": 8,
   "metadata": {},
   "outputs": [
    {
     "data": {
      "text/plain": "101"
     },
     "execution_count": 8,
     "metadata": {},
     "output_type": "execute_result"
    }
   ],
   "source": [
    "len(p)"
   ]
  },
  {
   "cell_type": "code",
   "execution_count": 9,
   "metadata": {},
   "outputs": [
    {
     "data": {
      "text/plain": "11742"
     },
     "execution_count": 9,
     "metadata": {},
     "output_type": "execute_result"
    }
   ],
   "source": [
    "open.nodes_added"
   ]
  },
  {
   "cell_type": "code",
   "execution_count": 10,
   "metadata": {
    "pycharm": {
     "name": "#%%\n"
    }
   },
   "outputs": [
    {
     "data": {
      "text/plain": "4194"
     },
     "execution_count": 10,
     "metadata": {},
     "output_type": "execute_result"
    }
   ],
   "source": [
    "closed.nodes_added"
   ]
  },
  {
   "cell_type": "code",
   "execution_count": 11,
   "metadata": {
    "pycharm": {
     "name": "#%%\n"
    }
   },
   "outputs": [],
   "source": [
    "from src.D_star_Lite.d_star_lite import *"
   ]
  },
  {
   "cell_type": "code",
   "execution_count": 12,
   "metadata": {
    "pycharm": {
     "name": "#%%\n"
    }
   },
   "outputs": [],
   "source": [
    "f, p, open, closed = d_star_lite(sensor_maps[map_n], (0,0), (23, 63))"
   ]
  },
  {
   "cell_type": "code",
   "execution_count": 13,
   "metadata": {
    "pycharm": {
     "name": "#%%\n"
    }
   },
   "outputs": [
    {
     "data": {
      "text/plain": "True"
     },
     "execution_count": 13,
     "metadata": {},
     "output_type": "execute_result"
    }
   ],
   "source": [
    "f"
   ]
  },
  {
   "cell_type": "code",
   "execution_count": 14,
   "metadata": {
    "pycharm": {
     "name": "#%%\n"
    }
   },
   "outputs": [
    {
     "data": {
      "text/plain": "3083"
     },
     "execution_count": 14,
     "metadata": {},
     "output_type": "execute_result"
    }
   ],
   "source": [
    "open.nodes_added"
   ]
  },
  {
   "cell_type": "code",
   "execution_count": 15,
   "metadata": {
    "pycharm": {
     "name": "#%%\n"
    }
   },
   "outputs": [
    {
     "data": {
      "text/plain": "1493"
     },
     "execution_count": 15,
     "metadata": {},
     "output_type": "execute_result"
    }
   ],
   "source": [
    "closed.nodes_added"
   ]
  },
  {
   "cell_type": "code",
   "execution_count": 16,
   "metadata": {
    "pycharm": {
     "name": "#%%\n"
    }
   },
   "outputs": [
    {
     "data": {
      "text/plain": "97"
     },
     "execution_count": 16,
     "metadata": {},
     "output_type": "execute_result"
    }
   ],
   "source": [
    "len(p)"
   ]
  },
  {
   "cell_type": "code",
   "execution_count": 17,
   "metadata": {
    "pycharm": {
     "name": "#%%\n"
    }
   },
   "outputs": [],
   "source": [
    "from src.LSS_LRTA_star.lss_lrta_star import *"
   ]
  },
  {
   "cell_type": "code",
   "execution_count": 18,
   "metadata": {
    "pycharm": {
     "name": "#%%\n"
    }
   },
   "outputs": [
    {
     "name": "stdout",
     "output_type": "stream",
     "text": [
      "(1, 1)\n",
      "84\n",
      "(1, 2)\n",
      "83\n",
      "(1, 3)\n",
      "82\n",
      "(1, 5)\n",
      "80\n",
      "(2, 6)\n",
      "78\n",
      "(2, 7)\n",
      "77\n",
      "(2, 8)\n",
      "76\n",
      "(2, 9)\n",
      "75\n",
      "(2, 11)\n",
      "73\n",
      "(2, 12)\n",
      "72\n",
      "(2, 13)\n",
      "71\n",
      "(2, 14)\n",
      "70\n",
      "(2, 15)\n",
      "69\n",
      "(1, 18)\n",
      "67\n",
      "(1, 19)\n",
      "66\n",
      "(1, 20)\n",
      "65\n",
      "(1, 21)\n",
      "64\n",
      "(1, 22)\n",
      "63\n",
      "(1, 23)\n",
      "62\n",
      "(1, 24)\n",
      "61\n",
      "(1, 25)\n",
      "60\n",
      "(1, 26)\n",
      "59\n",
      "(1, 27)\n",
      "58\n",
      "(1, 28)\n",
      "57\n",
      "(1, 29)\n",
      "56\n",
      "(1, 30)\n",
      "55\n",
      "(2, 31)\n",
      "53\n",
      "(2, 32)\n",
      "52\n",
      "(2, 33)\n",
      "51\n",
      "(2, 34)\n",
      "50\n",
      "(2, 35)\n",
      "49\n",
      "(2, 37)\n",
      "47\n",
      "(2, 39)\n",
      "45\n",
      "(2, 41)\n",
      "43\n",
      "(3, 42)\n",
      "41\n",
      "(3, 43)\n",
      "40\n",
      "(3, 44)\n",
      "39\n",
      "(3, 45)\n",
      "38\n",
      "(4, 47)\n",
      "35\n",
      "(4, 49)\n",
      "33\n",
      "(4, 50)\n",
      "32\n",
      "(4, 51)\n",
      "31\n",
      "(4, 52)\n",
      "30\n",
      "(4, 53)\n",
      "29\n",
      "(4, 54)\n",
      "28\n",
      "(4, 55)\n",
      "27\n",
      "(4, 56)\n",
      "26\n",
      "(4, 57)\n",
      "25\n",
      "(4, 58)\n",
      "24\n",
      "(4, 59)\n",
      "23\n",
      "(4, 60)\n",
      "22\n",
      "(4, 61)\n",
      "21\n",
      "(4, 62)\n",
      "20\n",
      "(5, 63)\n",
      "18\n",
      "(5, 62)\n",
      "19\n",
      "(9, 63)\n",
      "14\n",
      "(9, 62)\n",
      "15\n",
      "(12, 63)\n",
      "11\n",
      "(14, 63)\n",
      "9\n",
      "(16, 63)\n",
      "7\n",
      "(16, 62)\n",
      "8\n",
      "(20, 63)\n",
      "3\n",
      "(23, 63)\n",
      "0\n"
     ]
    }
   ],
   "source": [
    "f, p, open, closed = lss_lrta_star(sensor_maps[map_n], (0,0), (23, 63), lookahead=25)"
   ]
  },
  {
   "cell_type": "code",
   "execution_count": 19,
   "metadata": {
    "pycharm": {
     "name": "#%%\n"
    }
   },
   "outputs": [
    {
     "data": {
      "text/plain": "True"
     },
     "execution_count": 19,
     "metadata": {},
     "output_type": "execute_result"
    }
   ],
   "source": [
    "f"
   ]
  },
  {
   "cell_type": "code",
   "execution_count": 20,
   "metadata": {
    "pycharm": {
     "name": "#%%\n"
    }
   },
   "outputs": [
    {
     "data": {
      "text/plain": "5679"
     },
     "execution_count": 20,
     "metadata": {},
     "output_type": "execute_result"
    }
   ],
   "source": [
    "open.nodes_added"
   ]
  },
  {
   "cell_type": "code",
   "execution_count": 21,
   "metadata": {
    "pycharm": {
     "name": "#%%\n"
    }
   },
   "outputs": [
    {
     "data": {
      "text/plain": "1449"
     },
     "execution_count": 21,
     "metadata": {},
     "output_type": "execute_result"
    }
   ],
   "source": [
    "closed.nodes_added"
   ]
  },
  {
   "cell_type": "code",
   "execution_count": 22,
   "metadata": {
    "pycharm": {
     "name": "#%%\n"
    }
   },
   "outputs": [
    {
     "data": {
      "text/plain": "99"
     },
     "execution_count": 22,
     "metadata": {},
     "output_type": "execute_result"
    }
   ],
   "source": [
    "len(p)"
   ]
  },
  {
   "cell_type": "markdown",
   "metadata": {},
   "source": [
    "# Эксперименты"
   ]
  },
  {
   "cell_type": "code",
   "execution_count": 23,
   "metadata": {},
   "outputs": [],
   "source": [
    "from test.test_rnd import test_rnd\n",
    "from src.A_star_Replanning.a_star_replanning import *\n",
    "from src.D_star_Lite.d_star_lite import *"
   ]
  },
  {
   "cell_type": "code",
   "execution_count": 24,
   "metadata": {},
   "outputs": [
    {
     "ename": "KeyboardInterrupt",
     "evalue": "",
     "output_type": "error",
     "traceback": [
      "\u001B[0;31m---------------------------------------------------------------------------\u001B[0m",
      "\u001B[0;31mKeyboardInterrupt\u001B[0m                         Traceback (most recent call last)",
      "\u001B[0;32m<ipython-input-24-35396162dd17>\u001B[0m in \u001B[0;36m<module>\u001B[0;34m\u001B[0m\n\u001B[0;32m----> 1\u001B[0;31m \u001B[0mresults_rnd_asr\u001B[0m \u001B[0;34m=\u001B[0m \u001B[0mtest_rnd\u001B[0m\u001B[0;34m(\u001B[0m\u001B[0ma_star_replanning\u001B[0m\u001B[0;34m)\u001B[0m\u001B[0;34m\u001B[0m\u001B[0;34m\u001B[0m\u001B[0m\n\u001B[0m\u001B[1;32m      2\u001B[0m \u001B[0;34m\u001B[0m\u001B[0m\n",
      "\u001B[0;32m~/Desktop/SPBU/heuristics/project/d_star_lite/test/test_rnd.py\u001B[0m in \u001B[0;36mtest_rnd\u001B[0;34m(search_function, *args)\u001B[0m\n\u001B[1;32m     33\u001B[0m         \u001B[0mexp\u001B[0m \u001B[0;34m=\u001B[0m \u001B[0;36m0\u001B[0m\u001B[0;34m\u001B[0m\u001B[0;34m\u001B[0m\u001B[0m\n\u001B[1;32m     34\u001B[0m         \u001B[0;32mfor\u001B[0m \u001B[0mtest_map\u001B[0m \u001B[0;32min\u001B[0m \u001B[0mmaps\u001B[0m\u001B[0;34m[\u001B[0m\u001B[0msize\u001B[0m\u001B[0;34m]\u001B[0m\u001B[0;34m:\u001B[0m\u001B[0;34m\u001B[0m\u001B[0;34m\u001B[0m\u001B[0m\n\u001B[0;32m---> 35\u001B[0;31m             \u001B[0mstatus\u001B[0m\u001B[0;34m,\u001B[0m \u001B[0mp\u001B[0m\u001B[0;34m,\u001B[0m \u001B[0mnodes_opened\u001B[0m\u001B[0;34m,\u001B[0m \u001B[0mnodes_expanded\u001B[0m \u001B[0;34m=\u001B[0m \u001B[0msearch_function\u001B[0m\u001B[0;34m(\u001B[0m\u001B[0mtest_map\u001B[0m\u001B[0;34m,\u001B[0m \u001B[0;34m(\u001B[0m\u001B[0;36m0\u001B[0m\u001B[0;34m,\u001B[0m \u001B[0;36m0\u001B[0m\u001B[0;34m)\u001B[0m\u001B[0;34m,\u001B[0m \u001B[0;34m(\u001B[0m\u001B[0msize\u001B[0m \u001B[0;34m-\u001B[0m \u001B[0;36m1\u001B[0m\u001B[0;34m,\u001B[0m \u001B[0msize\u001B[0m \u001B[0;34m-\u001B[0m \u001B[0;36m1\u001B[0m\u001B[0;34m)\u001B[0m\u001B[0;34m,\u001B[0m \u001B[0;34m*\u001B[0m\u001B[0margs\u001B[0m\u001B[0;34m)\u001B[0m\u001B[0;34m\u001B[0m\u001B[0;34m\u001B[0m\u001B[0m\n\u001B[0m\u001B[1;32m     36\u001B[0m \u001B[0;34m\u001B[0m\u001B[0m\n\u001B[1;32m     37\u001B[0m             \u001B[0mva\u001B[0m \u001B[0;34m+=\u001B[0m \u001B[0mnodes_opened\u001B[0m\u001B[0;34m.\u001B[0m\u001B[0mnodes_added\u001B[0m \u001B[0;34m/\u001B[0m \u001B[0;34m(\u001B[0m\u001B[0msize\u001B[0m \u001B[0;34m*\u001B[0m \u001B[0msize\u001B[0m\u001B[0;34m)\u001B[0m\u001B[0;34m\u001B[0m\u001B[0;34m\u001B[0m\u001B[0m\n",
      "\u001B[0;32m~/Desktop/SPBU/heuristics/project/d_star_lite/src/A_star_Replanning/a_star_replanning.py\u001B[0m in \u001B[0;36ma_star_replanning\u001B[0;34m(grid, start, end, heuristic, vision)\u001B[0m\n\u001B[1;32m     43\u001B[0m             \u001B[0;32mcontinue\u001B[0m\u001B[0;34m\u001B[0m\u001B[0;34m\u001B[0m\u001B[0m\n\u001B[1;32m     44\u001B[0m \u001B[0;34m\u001B[0m\u001B[0m\n\u001B[0;32m---> 45\u001B[0;31m         \u001B[0mOPEN\u001B[0m\u001B[0;34m.\u001B[0m\u001B[0mreset\u001B[0m\u001B[0;34m(\u001B[0m\u001B[0;34m)\u001B[0m\u001B[0;34m\u001B[0m\u001B[0;34m\u001B[0m\u001B[0m\n\u001B[0m\u001B[1;32m     46\u001B[0m         \u001B[0mCLOSED\u001B[0m\u001B[0;34m.\u001B[0m\u001B[0mreset\u001B[0m\u001B[0;34m(\u001B[0m\u001B[0;34m)\u001B[0m\u001B[0;34m\u001B[0m\u001B[0;34m\u001B[0m\u001B[0m\n\u001B[1;32m     47\u001B[0m         \u001B[0mfound_flag\u001B[0m\u001B[0;34m,\u001B[0m \u001B[0mlast_v\u001B[0m \u001B[0;34m=\u001B[0m \u001B[0ma_star\u001B[0m\u001B[0;34m(\u001B[0m\u001B[0mgrid\u001B[0m\u001B[0;34m,\u001B[0m \u001B[0mcur\u001B[0m\u001B[0;34m,\u001B[0m \u001B[0mend\u001B[0m\u001B[0;34m,\u001B[0m \u001B[0mOPEN\u001B[0m\u001B[0;34m,\u001B[0m \u001B[0mCLOSED\u001B[0m\u001B[0;34m,\u001B[0m \u001B[0mheuristic\u001B[0m\u001B[0;34m)\u001B[0m\u001B[0;34m\u001B[0m\u001B[0;34m\u001B[0m\u001B[0m\n",
      "\u001B[0;32m~/Desktop/SPBU/heuristics/project/d_star_lite/src/A_star_Replanning/open_a_star_replanning.py\u001B[0m in \u001B[0;36mreset\u001B[0;34m(self)\u001B[0m\n\u001B[1;32m     11\u001B[0m     \u001B[0;32mdef\u001B[0m \u001B[0mreset\u001B[0m\u001B[0;34m(\u001B[0m\u001B[0mself\u001B[0m\u001B[0;34m)\u001B[0m\u001B[0;34m:\u001B[0m\u001B[0;34m\u001B[0m\u001B[0;34m\u001B[0m\u001B[0m\n\u001B[1;32m     12\u001B[0m         \u001B[0mself\u001B[0m\u001B[0;34m.\u001B[0m\u001B[0mnodes_added\u001B[0m \u001B[0;34m+=\u001B[0m \u001B[0mself\u001B[0m\u001B[0;34m.\u001B[0m\u001B[0mopen\u001B[0m\u001B[0;34m.\u001B[0m\u001B[0mnodes_added\u001B[0m\u001B[0;34m\u001B[0m\u001B[0;34m\u001B[0m\u001B[0m\n\u001B[0;32m---> 13\u001B[0;31m         \u001B[0mself\u001B[0m\u001B[0;34m.\u001B[0m\u001B[0mopen\u001B[0m \u001B[0;34m=\u001B[0m \u001B[0mOpenAStar\u001B[0m\u001B[0;34m(\u001B[0m\u001B[0;34m)\u001B[0m\u001B[0;34m\u001B[0m\u001B[0;34m\u001B[0m\u001B[0m\n\u001B[0m\u001B[1;32m     14\u001B[0m \u001B[0;34m\u001B[0m\u001B[0m\n\u001B[1;32m     15\u001B[0m     \u001B[0;32mdef\u001B[0m \u001B[0m__iter__\u001B[0m\u001B[0;34m(\u001B[0m\u001B[0mself\u001B[0m\u001B[0;34m)\u001B[0m\u001B[0;34m:\u001B[0m\u001B[0;34m\u001B[0m\u001B[0;34m\u001B[0m\u001B[0m\n",
      "\u001B[0;32m~/Desktop/SPBU/heuristics/project/d_star_lite/src/A_star/open_a_star.py\u001B[0m in \u001B[0;36m__init__\u001B[0;34m(self)\u001B[0m\n\u001B[1;32m     11\u001B[0m         \u001B[0msuper\u001B[0m\u001B[0;34m(\u001B[0m\u001B[0;34m)\u001B[0m\u001B[0;34m.\u001B[0m\u001B[0m__init__\u001B[0m\u001B[0;34m(\u001B[0m\u001B[0;34m)\u001B[0m\u001B[0;34m\u001B[0m\u001B[0;34m\u001B[0m\u001B[0m\n\u001B[1;32m     12\u001B[0m         \u001B[0mself\u001B[0m\u001B[0;34m.\u001B[0m\u001B[0melements\u001B[0m \u001B[0;34m=\u001B[0m \u001B[0mdict\u001B[0m\u001B[0;34m(\u001B[0m\u001B[0;34m)\u001B[0m\u001B[0;34m\u001B[0m\u001B[0;34m\u001B[0m\u001B[0m\n\u001B[0;32m---> 13\u001B[0;31m         \u001B[0mself\u001B[0m\u001B[0;34m.\u001B[0m\u001B[0mheap\u001B[0m \u001B[0;34m=\u001B[0m \u001B[0mheapdict\u001B[0m\u001B[0;34m(\u001B[0m\u001B[0;34m)\u001B[0m\u001B[0;34m\u001B[0m\u001B[0;34m\u001B[0m\u001B[0m\n\u001B[0m\u001B[1;32m     14\u001B[0m \u001B[0;34m\u001B[0m\u001B[0m\n\u001B[1;32m     15\u001B[0m     \u001B[0;32mdef\u001B[0m \u001B[0m__len__\u001B[0m\u001B[0;34m(\u001B[0m\u001B[0mself\u001B[0m\u001B[0;34m)\u001B[0m\u001B[0;34m:\u001B[0m\u001B[0;34m\u001B[0m\u001B[0;34m\u001B[0m\u001B[0m\n",
      "\u001B[0;32m/usr/local/lib/python3.9/site-packages/heapdict.py\u001B[0m in \u001B[0;36m__init__\u001B[0;34m(self, *args, **kw)\u001B[0m\n\u001B[1;32m     21\u001B[0m         \u001B[0mself\u001B[0m\u001B[0;34m.\u001B[0m\u001B[0mheap\u001B[0m \u001B[0;34m=\u001B[0m \u001B[0;34m[\u001B[0m\u001B[0;34m]\u001B[0m\u001B[0;34m\u001B[0m\u001B[0;34m\u001B[0m\u001B[0m\n\u001B[1;32m     22\u001B[0m         \u001B[0mself\u001B[0m\u001B[0;34m.\u001B[0m\u001B[0md\u001B[0m \u001B[0;34m=\u001B[0m \u001B[0;34m{\u001B[0m\u001B[0;34m}\u001B[0m\u001B[0;34m\u001B[0m\u001B[0;34m\u001B[0m\u001B[0m\n\u001B[0;32m---> 23\u001B[0;31m         \u001B[0mself\u001B[0m\u001B[0;34m.\u001B[0m\u001B[0mupdate\u001B[0m\u001B[0;34m(\u001B[0m\u001B[0;34m*\u001B[0m\u001B[0margs\u001B[0m\u001B[0;34m,\u001B[0m \u001B[0;34m**\u001B[0m\u001B[0mkw\u001B[0m\u001B[0;34m)\u001B[0m\u001B[0;34m\u001B[0m\u001B[0;34m\u001B[0m\u001B[0m\n\u001B[0m\u001B[1;32m     24\u001B[0m \u001B[0;34m\u001B[0m\u001B[0m\n\u001B[1;32m     25\u001B[0m     \u001B[0;34m@\u001B[0m\u001B[0mdoc\u001B[0m\u001B[0;34m(\u001B[0m\u001B[0mdict\u001B[0m\u001B[0;34m.\u001B[0m\u001B[0mclear\u001B[0m\u001B[0;34m)\u001B[0m\u001B[0;34m\u001B[0m\u001B[0;34m\u001B[0m\u001B[0m\n",
      "\u001B[0;32m/usr/local/Cellar/python@3.9/3.9.2_4/Frameworks/Python.framework/Versions/3.9/lib/python3.9/_collections_abc.py\u001B[0m in \u001B[0;36mupdate\u001B[0;34m(self, other, **kwds)\u001B[0m\n\u001B[1;32m    945\u001B[0m             \u001B[0;32mfor\u001B[0m \u001B[0mkey\u001B[0m\u001B[0;34m,\u001B[0m \u001B[0mvalue\u001B[0m \u001B[0;32min\u001B[0m \u001B[0mother\u001B[0m\u001B[0;34m:\u001B[0m\u001B[0;34m\u001B[0m\u001B[0;34m\u001B[0m\u001B[0m\n\u001B[1;32m    946\u001B[0m                 \u001B[0mself\u001B[0m\u001B[0;34m[\u001B[0m\u001B[0mkey\u001B[0m\u001B[0;34m]\u001B[0m \u001B[0;34m=\u001B[0m \u001B[0mvalue\u001B[0m\u001B[0;34m\u001B[0m\u001B[0;34m\u001B[0m\u001B[0m\n\u001B[0;32m--> 947\u001B[0;31m         \u001B[0;32mfor\u001B[0m \u001B[0mkey\u001B[0m\u001B[0;34m,\u001B[0m \u001B[0mvalue\u001B[0m \u001B[0;32min\u001B[0m \u001B[0mkwds\u001B[0m\u001B[0;34m.\u001B[0m\u001B[0mitems\u001B[0m\u001B[0;34m(\u001B[0m\u001B[0;34m)\u001B[0m\u001B[0;34m:\u001B[0m\u001B[0;34m\u001B[0m\u001B[0;34m\u001B[0m\u001B[0m\n\u001B[0m\u001B[1;32m    948\u001B[0m             \u001B[0mself\u001B[0m\u001B[0;34m[\u001B[0m\u001B[0mkey\u001B[0m\u001B[0;34m]\u001B[0m \u001B[0;34m=\u001B[0m \u001B[0mvalue\u001B[0m\u001B[0;34m\u001B[0m\u001B[0;34m\u001B[0m\u001B[0m\n\u001B[1;32m    949\u001B[0m \u001B[0;34m\u001B[0m\u001B[0m\n",
      "\u001B[0;31mKeyboardInterrupt\u001B[0m: "
     ]
    }
   ],
   "source": [
    "results_rnd_asr = test_rnd(a_star_replanning)"
   ]
  },
  {
   "cell_type": "code",
   "execution_count": null,
   "metadata": {},
   "outputs": [],
   "source": [
    "results_rnd_asr"
   ]
  },
  {
   "cell_type": "code",
   "execution_count": null,
   "metadata": {},
   "outputs": [],
   "source": [
    "results_rnd_dsl = test_rnd(d_star_lite)"
   ]
  },
  {
   "cell_type": "code",
   "execution_count": null,
   "metadata": {},
   "outputs": [],
   "source": [
    "results_rnd_dsl"
   ]
  },
  {
   "cell_type": "code",
   "execution_count": null,
   "metadata": {},
   "outputs": [],
   "source": [
    "results_rnd_lssrta = test_rnd(lss_lrta_star)"
   ]
  },
  {
   "cell_type": "code",
   "execution_count": null,
   "metadata": {},
   "outputs": [],
   "source": [
    "results_rnd_lssrta"
   ]
  },
  {
   "cell_type": "code",
   "execution_count": null,
   "metadata": {},
   "outputs": [],
   "source": [
    "import matplotlib.pyplot as plt\n",
    "import numpy as np"
   ]
  },
  {
   "cell_type": "code",
   "execution_count": null,
   "metadata": {},
   "outputs": [],
   "source": [
    "vertex_acceses_rnd_asr = np.array(list(map(lambda x: x[0], results_rnd_asr.values())))-1\n",
    "nodes_expanded_rnd_asr = np.array(list(map(lambda x: x[1], results_rnd_asr.values())))-1\n",
    "vertex_acceses_rnd_dsl = np.array(list(map(lambda x: x[0], results_rnd_dsl.values())))-1\n",
    "nodes_expanded_rnd_dsl = np.array(list(map(lambda x: x[1], results_rnd_dsl.values())))-1\n",
    "vertex_acceses_rnd_lssrta = np.array(list(map(lambda x: x[0], results_rnd_lssrta.values())))-1\n",
    "nodes_expanded_rnd_lssrta = np.array(list(map(lambda x: x[1], results_rnd_lssrta.values())))-1"
   ]
  },
  {
   "cell_type": "code",
   "execution_count": null,
   "metadata": {},
   "outputs": [],
   "source": [
    "vertex_acceses_rnd_asr[vertex_acceses_rnd_asr < 0] = 0.0\n",
    "nodes_expanded_rnd_asr[nodes_expanded_rnd_asr < 0] = 0.0\n",
    "vertex_acceses_rnd_dsl[vertex_acceses_rnd_dsl < 0] = 0.0\n",
    "nodes_expanded_rnd_dsl[nodes_expanded_rnd_dsl < 0] = 0.0\n",
    "vertex_acceses_rnd_lssrta[vertex_acceses_rnd_lssrta < 0] = 0.0\n",
    "nodes_expanded_rnd_lssrta[nodes_expanded_rnd_lssrta < 0] = 0.0"
   ]
  },
  {
   "cell_type": "code",
   "execution_count": null,
   "metadata": {},
   "outputs": [],
   "source": [
    "plt.figure(figsize=(10,10))\n",
    "plt.plot(results_rnd_asr.keys(), vertex_acceses_rnd_asr*100, marker='o')\n",
    "plt.plot(results_rnd_asr.keys(), vertex_acceses_rnd_dsl*100, marker='o')\n",
    "plt.plot(results_rnd_lssrta.keys(), vertex_acceses_rnd_lssrta*100, marker='o')\n",
    "plt.legend(['A* replanning', 'D* Lite', 'LSS-LRTA*'])\n",
    "plt.xlabel('Enviroment size')\n",
    "plt.ylabel('Percent of extra vertex accesses')\n",
    "plt.show()"
   ]
  },
  {
   "cell_type": "code",
   "execution_count": null,
   "metadata": {},
   "outputs": [],
   "source": [
    "plt.figure(figsize=(10,10))\n",
    "plt.plot(results_rnd_asr.keys(), nodes_expanded_rnd_asr*100, marker='o')\n",
    "plt.plot(results_rnd_asr.keys(), nodes_expanded_rnd_dsl*100, marker='o')\n",
    "plt.plot(results_rnd_lssrta.keys(), nodes_expanded_rnd_lssrta*100, marker='o')\n",
    "plt.legend(['A* replanning', 'D* Lite', 'LSS-LRTA*'])\n",
    "plt.xlabel('Enviroment size')\n",
    "plt.ylabel('Percent of extra vertex expansions')\n",
    "plt.show()"
   ]
  },
  {
   "cell_type": "code",
   "execution_count": null,
   "metadata": {},
   "outputs": [],
   "source": [
    "from test.test_sensor import *\n",
    "from src.A_star_Replanning.a_star_replanning import *\n",
    "from src.D_star_Lite.d_star_lite import *\n",
    "import matplotlib.pyplot as plt\n",
    "import numpy as np"
   ]
  },
  {
   "cell_type": "code",
   "execution_count": null,
   "metadata": {},
   "outputs": [],
   "source": [
    "results_sensor_asr = test_sensor(a_star_replanning)\n",
    "results_sensor_asr"
   ]
  },
  {
   "cell_type": "code",
   "execution_count": null,
   "metadata": {},
   "outputs": [],
   "source": [
    "results_sensor_dsl = test_sensor(a_star_replanning)\n",
    "results_sensor_dsl"
   ]
  },
  {
   "cell_type": "code",
   "execution_count": null,
   "metadata": {},
   "outputs": [],
   "source": [
    "results_sensor_lssrta = test_sensor(lss_lrta_star)\n",
    "results_sensor_lssrta"
   ]
  },
  {
   "cell_type": "code",
   "execution_count": null,
   "metadata": {},
   "outputs": [],
   "source": [
    "vertex_acceses_sensor_asr = np.array(list(map(lambda x: x[0], results_sensor_asr.values())))-1\n",
    "nodes_expanded_sensor_asr = np.array(list(map(lambda x: x[1], results_sensor_asr.values())))-1\n",
    "vertex_acceses_sensor_dsl = np.array(list(map(lambda x: x[0], results_sensor_dsl.values())))-1\n",
    "nodes_expanded_sensor_dsl = np.array(list(map(lambda x: x[1], results_sensor_dsl.values())))-1\n",
    "vertex_acceses_sensor_lssrta = np.array(list(map(lambda x: x[0], results_sensor_lssrta.values())))-1\n",
    "nodes_expanded_sensor_lssrta = np.array(list(map(lambda x: x[1], results_sensor_lssrta.values())))-1\n",
    "\n",
    "vertex_acceses_sensor_asr[vertex_acceses_sensor_asr < 0] = 0.0\n",
    "nodes_expanded_sensor_asr[nodes_expanded_sensor_asr < 0] = 0.0\n",
    "vertex_acceses_sensor_dsl[vertex_acceses_sensor_dsl < 0] = 0.0\n",
    "nodes_expanded_sensor_dsl[nodes_expanded_sensor_dsl < 0] = 0.0\n",
    "vertex_acceses_sensor_lssrta[vertex_acceses_sensor_lssrta < 0] = 0.0\n",
    "nodes_expanded_sensor_lssrta[nodes_expanded_sensor_lssrta < 0] = 0.0"
   ]
  },
  {
   "cell_type": "code",
   "execution_count": null,
   "metadata": {},
   "outputs": [],
   "source": [
    "plt.figure(figsize=(10,10))\n",
    "plt.plot(results_sensor_asr.keys(), vertex_acceses_sensor_asr*100, marker='o')\n",
    "plt.plot(results_sensor_asr.keys(), vertex_acceses_sensor_dsl*100, marker='o')\n",
    "plt.plot(results_sensor_asr.keys(), vertex_acceses_sensor_lssrta*100, marker='o')\n",
    "plt.legend(['A* replanning', 'D* Lite', 'LSS-RTA*'])\n",
    "plt.xlabel('Sensor radius')\n",
    "plt.ylabel('Percent of extra vertex accesses')\n",
    "plt.show()"
   ]
  },
  {
   "cell_type": "code",
   "execution_count": null,
   "metadata": {},
   "outputs": [],
   "source": [
    "plt.figure(figsize=(10,10))\n",
    "plt.plot(results_sensor_asr.keys(), nodes_expanded_sensor_asr*100, marker='o')\n",
    "plt.plot(results_sensor_asr.keys(), nodes_expanded_sensor_dsl*100, marker='o')\n",
    "plt.plot(results_sensor_asr.keys(), nodes_expanded_sensor_lssrta*100, marker='o')\n",
    "plt.legend(['A* replanning', 'D* Lite'])\n",
    "plt.xlabel('Sensor radius')\n",
    "plt.ylabel('Percent of extra vertex expansions')\n",
    "plt.show()"
   ]
  },
  {
   "cell_type": "code",
   "execution_count": null,
   "metadata": {},
   "outputs": [],
   "source": []
  }
 ],
 "metadata": {
  "kernelspec": {
   "display_name": "Python 3",
   "language": "python",
   "name": "python3"
  },
  "language_info": {
   "codemirror_mode": {
    "name": "ipython",
    "version": 3
   },
   "file_extension": ".py",
   "mimetype": "text/x-python",
   "name": "python",
   "nbconvert_exporter": "python",
   "pygments_lexer": "ipython3",
   "version": "3.9.4"
  }
 },
 "nbformat": 4,
 "nbformat_minor": 4
}